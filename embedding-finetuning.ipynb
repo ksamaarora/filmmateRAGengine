{
 "cells": [
  {
   "cell_type": "markdown",
   "metadata": {},
   "source": [
    "# Movie Recommendation ChatBOT with Meta Data Enrichment"
   ]
  },
  {
   "cell_type": "code",
   "execution_count": 1,
   "metadata": {},
   "outputs": [
    {
     "name": "stderr",
     "output_type": "stream",
     "text": [
      "/Users/1zuu/miniforge3/envs/llamaindex/lib/python3.9/site-packages/tqdm/auto.py:21: TqdmWarning: IProgress not found. Please update jupyter and ipywidgets. See https://ipywidgets.readthedocs.io/en/stable/user_install.html\n",
      "  from .autonotebook import tqdm as notebook_tqdm\n"
     ]
    }
   ],
   "source": [
    "import math\n",
    "import yaml, os\n",
    "import numpy as np\n",
    "import pandas as pd \n",
    "from pathlib import Path\n",
    "from llama_index import Document\n",
    "from llama_index.llms import AzureOpenAI\n",
    "from llama_index.llm_predictor import LLMPredictor\n",
    "from llama_index import set_global_service_context\n",
    "from llama_index.node_parser import SimpleNodeParser\n",
    "from sentence_transformers import SentenceTransformer\n",
    "from llama_index.embeddings import HuggingFaceEmbedding \n",
    "from sentence_transformers.evaluation import InformationRetrievalEvaluator\n",
    "from llama_index import VectorStoreIndex, SimpleDirectoryReader, ServiceContext\n",
    "from llama_index.finetuning import (\n",
    "                                    generate_qa_embedding_pairs,\n",
    "                                    EmbeddingQAFinetuneDataset,\n",
    "                                    SentenceTransformersFinetuneEngine\n",
    "                                    )\n",
    "\n",
    "pd.set_option('display.max_columns', 100)"
   ]
  },
  {
   "cell_type": "code",
   "execution_count": 2,
   "metadata": {},
   "outputs": [],
   "source": [
    "with open('/Users/1zuu/Desktop/LLM RESEARCH/LLMPro/cadentials.yaml') as f:\n",
    "    credentials = yaml.load(f, Loader=yaml.FullLoader)\n",
    "\n",
    "os.environ['AD_OPENAI_API_KEY'] = credentials['AD_OPENAI_API_KEY']\n",
    "os.environ['HUGGINGFACEHUB_API_TOKEN'] = credentials['HUGGINGFACEHUB_API_TOKEN']\n",
    "\n",
    "data_path = 'movies_metadata.csv'"
   ]
  },
  {
   "cell_type": "code",
   "execution_count": 3,
   "metadata": {},
   "outputs": [],
   "source": [
    "def preprocess_dataset(row):\n",
    "    belongs_to_collection = row['belongs_to_collection']\n",
    "    belongs_to_collection = 'NULL' if pd.isnull(belongs_to_collection) else belongs_to_collection\n",
    "    belongs_to_collection = eval(belongs_to_collection)['name'] if belongs_to_collection != 'NULL' else 'NULL'\n",
    "\n",
    "    genres = row['genres']\n",
    "    genres = 'NULL' if pd.isnull(genres) else genres\n",
    "    if genres != 'NULL':\n",
    "        genres = eval(genres)\n",
    "        genres = [genre['name'] for genre in genres]\n",
    "        \n",
    "    row['belongs_to_collection'] = belongs_to_collection\n",
    "    row['genres'] = genres\n",
    "\n",
    "    return row"
   ]
  },
  {
   "cell_type": "code",
   "execution_count": 4,
   "metadata": {},
   "outputs": [
    {
     "data": {
      "text/html": [
       "<div>\n",
       "<style scoped>\n",
       "    .dataframe tbody tr th:only-of-type {\n",
       "        vertical-align: middle;\n",
       "    }\n",
       "\n",
       "    .dataframe tbody tr th {\n",
       "        vertical-align: top;\n",
       "    }\n",
       "\n",
       "    .dataframe thead th {\n",
       "        text-align: right;\n",
       "    }\n",
       "</style>\n",
       "<table border=\"1\" class=\"dataframe\">\n",
       "  <thead>\n",
       "    <tr style=\"text-align: right;\">\n",
       "      <th></th>\n",
       "      <th>adult</th>\n",
       "      <th>belongs_to_collection</th>\n",
       "      <th>budget</th>\n",
       "      <th>genres</th>\n",
       "      <th>original_language</th>\n",
       "      <th>original_title</th>\n",
       "      <th>overview</th>\n",
       "      <th>popularity</th>\n",
       "      <th>revenue</th>\n",
       "      <th>runtime</th>\n",
       "      <th>vote_average</th>\n",
       "      <th>vote_count</th>\n",
       "    </tr>\n",
       "  </thead>\n",
       "  <tbody>\n",
       "    <tr>\n",
       "      <th>0</th>\n",
       "      <td>False</td>\n",
       "      <td>Toy Story Collection</td>\n",
       "      <td>30000000</td>\n",
       "      <td>[Animation, Comedy, Family]</td>\n",
       "      <td>en</td>\n",
       "      <td>Toy Story</td>\n",
       "      <td>Led by Woody, Andy's toys live happily in his ...</td>\n",
       "      <td>21.946943</td>\n",
       "      <td>373554033.0</td>\n",
       "      <td>81.0</td>\n",
       "      <td>7.7</td>\n",
       "      <td>5415.0</td>\n",
       "    </tr>\n",
       "    <tr>\n",
       "      <th>1</th>\n",
       "      <td>False</td>\n",
       "      <td>NULL</td>\n",
       "      <td>65000000</td>\n",
       "      <td>[Adventure, Fantasy, Family]</td>\n",
       "      <td>en</td>\n",
       "      <td>Jumanji</td>\n",
       "      <td>When siblings Judy and Peter discover an encha...</td>\n",
       "      <td>17.015539</td>\n",
       "      <td>262797249.0</td>\n",
       "      <td>104.0</td>\n",
       "      <td>6.9</td>\n",
       "      <td>2413.0</td>\n",
       "    </tr>\n",
       "    <tr>\n",
       "      <th>2</th>\n",
       "      <td>False</td>\n",
       "      <td>Grumpy Old Men Collection</td>\n",
       "      <td>0</td>\n",
       "      <td>[Romance, Comedy]</td>\n",
       "      <td>en</td>\n",
       "      <td>Grumpier Old Men</td>\n",
       "      <td>A family wedding reignites the ancient feud be...</td>\n",
       "      <td>11.712900</td>\n",
       "      <td>0.0</td>\n",
       "      <td>101.0</td>\n",
       "      <td>6.5</td>\n",
       "      <td>92.0</td>\n",
       "    </tr>\n",
       "    <tr>\n",
       "      <th>3</th>\n",
       "      <td>False</td>\n",
       "      <td>NULL</td>\n",
       "      <td>16000000</td>\n",
       "      <td>[Comedy, Drama, Romance]</td>\n",
       "      <td>en</td>\n",
       "      <td>Waiting to Exhale</td>\n",
       "      <td>Cheated on, mistreated and stepped on, the wom...</td>\n",
       "      <td>3.859495</td>\n",
       "      <td>81452156.0</td>\n",
       "      <td>127.0</td>\n",
       "      <td>6.1</td>\n",
       "      <td>34.0</td>\n",
       "    </tr>\n",
       "    <tr>\n",
       "      <th>4</th>\n",
       "      <td>False</td>\n",
       "      <td>Father of the Bride Collection</td>\n",
       "      <td>0</td>\n",
       "      <td>[Comedy]</td>\n",
       "      <td>en</td>\n",
       "      <td>Father of the Bride Part II</td>\n",
       "      <td>Just when George Banks has recovered from his ...</td>\n",
       "      <td>8.387519</td>\n",
       "      <td>76578911.0</td>\n",
       "      <td>106.0</td>\n",
       "      <td>5.7</td>\n",
       "      <td>173.0</td>\n",
       "    </tr>\n",
       "  </tbody>\n",
       "</table>\n",
       "</div>"
      ],
      "text/plain": [
       "   adult           belongs_to_collection    budget  \\\n",
       "0  False            Toy Story Collection  30000000   \n",
       "1  False                            NULL  65000000   \n",
       "2  False       Grumpy Old Men Collection         0   \n",
       "3  False                            NULL  16000000   \n",
       "4  False  Father of the Bride Collection         0   \n",
       "\n",
       "                         genres original_language  \\\n",
       "0   [Animation, Comedy, Family]                en   \n",
       "1  [Adventure, Fantasy, Family]                en   \n",
       "2             [Romance, Comedy]                en   \n",
       "3      [Comedy, Drama, Romance]                en   \n",
       "4                      [Comedy]                en   \n",
       "\n",
       "                original_title  \\\n",
       "0                    Toy Story   \n",
       "1                      Jumanji   \n",
       "2             Grumpier Old Men   \n",
       "3            Waiting to Exhale   \n",
       "4  Father of the Bride Part II   \n",
       "\n",
       "                                            overview  popularity      revenue  \\\n",
       "0  Led by Woody, Andy's toys live happily in his ...   21.946943  373554033.0   \n",
       "1  When siblings Judy and Peter discover an encha...   17.015539  262797249.0   \n",
       "2  A family wedding reignites the ancient feud be...   11.712900          0.0   \n",
       "3  Cheated on, mistreated and stepped on, the wom...    3.859495   81452156.0   \n",
       "4  Just when George Banks has recovered from his ...    8.387519   76578911.0   \n",
       "\n",
       "   runtime  vote_average  vote_count  \n",
       "0     81.0           7.7      5415.0  \n",
       "1    104.0           6.9      2413.0  \n",
       "2    101.0           6.5        92.0  \n",
       "3    127.0           6.1        34.0  \n",
       "4    106.0           5.7       173.0  "
      ]
     },
     "execution_count": 4,
     "metadata": {},
     "output_type": "execute_result"
    }
   ],
   "source": [
    "df = pd.read_csv(data_path)\n",
    "df = df.apply(preprocess_dataset, axis=1)\n",
    "df = df[[\n",
    "        'adult',\n",
    "        'belongs_to_collection',\n",
    "        'budget',\n",
    "        'genres',\n",
    "        'original_language',\n",
    "        'original_title',\n",
    "        'overview',\n",
    "        'popularity',\n",
    "        'revenue',\n",
    "        'runtime',\n",
    "        'vote_average',\n",
    "        'vote_count'\n",
    "        ]]\n",
    "df.head()"
   ]
  },
  {
   "cell_type": "code",
   "execution_count": 5,
   "metadata": {},
   "outputs": [],
   "source": [
    "def load_corpus(data_path, verbose=False):\n",
    "    df = pd.read_csv(data_path)\n",
    "    df = df.apply(preprocess_dataset, axis=1)\n",
    "    df = df[[\n",
    "            'adult',\n",
    "            'belongs_to_collection',\n",
    "            'budget',\n",
    "            'genres',\n",
    "            'original_language',\n",
    "            'original_title',\n",
    "            'overview',\n",
    "            'popularity',\n",
    "            'revenue',\n",
    "            'runtime',\n",
    "            'vote_average',\n",
    "            'vote_count'\n",
    "            ]]\n",
    "\n",
    "    if verbose:\n",
    "        print(f\"Loading {len(df)} movies from {data_path}\")\n",
    "\n",
    "    documents = []\n",
    "    for i, row in df.iterrows():\n",
    "        doc = Document(\n",
    "                    id=i,\n",
    "                    text=row['overview'],\n",
    "                    metadata={\n",
    "                            'title': row['original_title'],\n",
    "                            'genres': row['genres'],\n",
    "                            'belongs_to_collection': row['belongs_to_collection'],\n",
    "                            'budget': row['budget'],\n",
    "                            'popularity': row['popularity'],\n",
    "                            'revenue': row['revenue'],\n",
    "                            'runtime': row['runtime'],\n",
    "                            'vote_average': row['vote_average'],\n",
    "                            'vote_count': row['vote_count']\n",
    "                            })\n",
    "        documents.append(doc)\n",
    "\n",
    "    return documents"
   ]
  },
  {
   "cell_type": "markdown",
   "metadata": {},
   "source": [
    "# Configure LLMs"
   ]
  },
  {
   "cell_type": "code",
   "execution_count": 6,
   "metadata": {},
   "outputs": [],
   "source": [
    "embedding_llm = HuggingFaceEmbedding(\n",
    "                                    model_name=\"BAAI/bge-small-en-v1.5\",\n",
    "                                    device=\"mps\"\n",
    "                                    )\n",
    "llm=AzureOpenAI(\n",
    "                deployment_name=credentials['AD_DEPLOYMENT_ID'],\n",
    "                model=credentials['AD_ENGINE'],\n",
    "                api_key=credentials['AD_OPENAI_API_KEY'],\n",
    "                api_version=credentials['AD_OPENAI_API_VERSION'],\n",
    "                azure_endpoint=credentials['AD_OPENAI_API_BASE']\n",
    "                )\n",
    "chat_llm = LLMPredictor(llm)\n",
    "\n",
    "service_context = ServiceContext.from_defaults(\n",
    "                                                embed_model=embedding_llm,\n",
    "                                                llm_predictor=chat_llm\n",
    "                                                )\n",
    "set_global_service_context(service_context)"
   ]
  },
  {
   "cell_type": "markdown",
   "metadata": {},
   "source": [
    "# Creating Dataset"
   ]
  },
  {
   "cell_type": "code",
   "execution_count": 7,
   "metadata": {},
   "outputs": [
    {
     "data": {
      "text/plain": [
       "Document(id_='d75b4244-3a4e-4cd4-93e1-bea26764e265', embedding=None, metadata={'title': 'Toy Story', 'genres': ['Animation', 'Comedy', 'Family'], 'belongs_to_collection': 'Toy Story Collection', 'budget': 30000000, 'popularity': 21.946943, 'revenue': 373554033.0, 'runtime': 81.0, 'vote_average': 7.7, 'vote_count': 5415.0}, excluded_embed_metadata_keys=[], excluded_llm_metadata_keys=[], relationships={}, hash='84fe5f5b59f8380df75f70fbfe4fdf9755512a0335d5cbb0133da9cf752ee10d', text=\"Led by Woody, Andy's toys live happily in his room until Andy's birthday brings Buzz Lightyear onto the scene. Afraid of losing his place in Andy's heart, Woody plots against Buzz. But when circumstances separate Buzz and Woody from their owner, the duo eventually learns to put aside their differences.\", start_char_idx=None, end_char_idx=None, text_template='{metadata_str}\\n\\n{content}', metadata_template='{key}: {value}', metadata_seperator='\\n')"
      ]
     },
     "execution_count": 7,
     "metadata": {},
     "output_type": "execute_result"
    }
   ],
   "source": [
    "documents = load_corpus(data_path)\n",
    "documents[0]"
   ]
  },
  {
   "cell_type": "code",
   "execution_count": 9,
   "metadata": {},
   "outputs": [],
   "source": [
    "dataset = generate_qa_embedding_pairs(documents, llm=llm)\n",
    "dataset.save_json(\"generated/dataset.json\")"
   ]
  },
  {
   "cell_type": "markdown",
   "metadata": {},
   "source": [
    "# Finetuning"
   ]
  },
  {
   "cell_type": "code",
   "execution_count": null,
   "metadata": {},
   "outputs": [],
   "source": [
    "dataset = EmbeddingQAFinetuneDataset.from_json(\"generated/dataset.json\")"
   ]
  },
  {
   "cell_type": "code",
   "execution_count": null,
   "metadata": {},
   "outputs": [],
   "source": [
    "finetune_engine = SentenceTransformersFinetuneEngine(\n",
    "                                                    dataset,\n",
    "                                                    model_id=\"BAAI/bge-small-en-v1.5\",\n",
    "                                                    model_output_path=\"generated/bge-small-finetuned\",\n",
    "                                                    epochs=2\n",
    "                                                    )"
   ]
  },
  {
   "cell_type": "code",
   "execution_count": null,
   "metadata": {},
   "outputs": [
    {
     "name": "stderr",
     "output_type": "stream",
     "text": [
      "Iteration: 100%|██████████| 29/29 [01:43<00:00,  3.55s/it]\n",
      "Iteration: 100%|██████████| 29/29 [01:45<00:00,  3.64s/it]\n",
      "Epoch: 100%|██████████| 2/2 [03:28<00:00, 104.31s/it]\n"
     ]
    }
   ],
   "source": [
    "finetune_engine.finetune()"
   ]
  },
  {
   "cell_type": "code",
   "execution_count": null,
   "metadata": {},
   "outputs": [],
   "source": [
    "finetuned_embedding_llm = finetune_engine.get_finetuned_model()"
   ]
  },
  {
   "cell_type": "markdown",
   "metadata": {},
   "source": [
    "# Finetuned Embedding Evaluation"
   ]
  },
  {
   "cell_type": "code",
   "execution_count": null,
   "metadata": {},
   "outputs": [],
   "source": [
    "def evaluate_st(\n",
    "                dataset,\n",
    "                model_id,\n",
    "                name,\n",
    "                ):\n",
    "    \n",
    "    corpus = dataset.corpus\n",
    "    queries = dataset.queries\n",
    "    relevant_docs = dataset.relevant_docs\n",
    "\n",
    "    evaluator = InformationRetrievalEvaluator(queries, corpus, relevant_docs, name=name)\n",
    "    model = SentenceTransformer(model_id)\n",
    "    output_path = \"results/\"\n",
    "    Path(output_path).mkdir(exist_ok=True, parents=True)\n",
    "    return evaluator(model, output_path=output_path)"
   ]
  },
  {
   "cell_type": "code",
   "execution_count": null,
   "metadata": {},
   "outputs": [
    {
     "data": {
      "text/plain": [
       "0.7707418931120409"
      ]
     },
     "execution_count": 17,
     "metadata": {},
     "output_type": "execute_result"
    }
   ],
   "source": [
    "evaluate_st(dataset, \"BAAI/bge-small-en-v1.5\", name=\"bge\")"
   ]
  },
  {
   "cell_type": "code",
   "execution_count": null,
   "metadata": {},
   "outputs": [
    {
     "data": {
      "text/plain": [
       "0.8467020542474263"
      ]
     },
     "execution_count": 18,
     "metadata": {},
     "output_type": "execute_result"
    }
   ],
   "source": [
    "evaluate_st(dataset, \"./generated/bge-small-finetuned\", name=\"finetuned\")"
   ]
  }
 ],
 "metadata": {
  "kernelspec": {
   "display_name": "Python 3",
   "language": "python",
   "name": "python3"
  },
  "language_info": {
   "codemirror_mode": {
    "name": "ipython",
    "version": 3
   },
   "file_extension": ".py",
   "mimetype": "text/x-python",
   "name": "python",
   "nbconvert_exporter": "python",
   "pygments_lexer": "ipython3",
   "version": "3.9.18"
  }
 },
 "nbformat": 4,
 "nbformat_minor": 2
}
